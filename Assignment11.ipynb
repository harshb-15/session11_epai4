{
  "nbformat": 4,
  "nbformat_minor": 0,
  "metadata": {
    "colab": {
      "name": "Assignment11.ipynb",
      "provenance": [],
      "authorship_tag": "ABX9TyOmvOrWJ9C4zjK+1kNtFNN4",
      "include_colab_link": true
    },
    "kernelspec": {
      "name": "python3",
      "display_name": "Python 3"
    },
    "language_info": {
      "name": "python"
    }
  },
  "cells": [
    {
      "cell_type": "markdown",
      "metadata": {
        "id": "view-in-github",
        "colab_type": "text"
      },
      "source": [
        "<a href=\"https://colab.research.google.com/github/harshb-15/session11_epai4/blob/main/Assignment11.ipynb\" target=\"_parent\"><img src=\"https://colab.research.google.com/assets/colab-badge.svg\" alt=\"Open In Colab\"/></a>"
      ]
    },
    {
      "cell_type": "code",
      "execution_count": 1,
      "metadata": {
        "colab": {
          "base_uri": "https://localhost:8080/"
        },
        "id": "I-mLw2Z7m-ty",
        "outputId": "96ce7928-f165-42e2-9d18-9794adf6f162"
      },
      "outputs": [
        {
          "output_type": "stream",
          "name": "stdout",
          "text": [
            "Cloning into 'session11_epai4'...\n",
            "remote: Enumerating objects: 20, done.\u001b[K\n",
            "remote: Counting objects: 100% (20/20), done.\u001b[K\n",
            "remote: Compressing objects: 100% (16/16), done.\u001b[K\n",
            "remote: Total 20 (delta 3), reused 0 (delta 0), pack-reused 0\u001b[K\n",
            "Unpacking objects: 100% (20/20), done.\n"
          ]
        }
      ],
      "source": [
        "! git clone https://github.com/harshb-15/session11_epai4.git\n",
        "from session11_epai4.session11 import Polygon,PolygonSeq"
      ]
    },
    {
      "cell_type": "code",
      "source": [
        "p1 = Polygon(2,5) # sides are less"
      ],
      "metadata": {
        "colab": {
          "base_uri": "https://localhost:8080/",
          "height": 303
        },
        "id": "d9rt9dCMnjQ8",
        "outputId": "45002ec2-5617-4999-a5e8-4821e2b09858"
      },
      "execution_count": 2,
      "outputs": [
        {
          "output_type": "error",
          "ename": "ValueError",
          "evalue": "ignored",
          "traceback": [
            "\u001b[0;31m---------------------------------------------------------------------------\u001b[0m",
            "\u001b[0;31mValueError\u001b[0m                                Traceback (most recent call last)",
            "\u001b[0;32m<ipython-input-2-8b9686030a57>\u001b[0m in \u001b[0;36m<module>\u001b[0;34m()\u001b[0m\n\u001b[0;32m----> 1\u001b[0;31m \u001b[0mp1\u001b[0m \u001b[0;34m=\u001b[0m \u001b[0mPolygon\u001b[0m\u001b[0;34m(\u001b[0m\u001b[0;36m2\u001b[0m\u001b[0;34m,\u001b[0m\u001b[0;36m5\u001b[0m\u001b[0;34m)\u001b[0m \u001b[0;31m# sides are less\u001b[0m\u001b[0;34m\u001b[0m\u001b[0;34m\u001b[0m\u001b[0m\n\u001b[0m",
            "\u001b[0;32m/content/session11_epai4/session11.py\u001b[0m in \u001b[0;36m__init__\u001b[0;34m(self, sides, radius)\u001b[0m\n\u001b[1;32m      7\u001b[0m     \u001b[0;32mdef\u001b[0m \u001b[0m__init__\u001b[0m\u001b[0;34m(\u001b[0m\u001b[0mself\u001b[0m\u001b[0;34m,\u001b[0m \u001b[0msides\u001b[0m\u001b[0;34m,\u001b[0m \u001b[0mradius\u001b[0m\u001b[0;34m)\u001b[0m\u001b[0;34m:\u001b[0m\u001b[0;34m\u001b[0m\u001b[0;34m\u001b[0m\u001b[0m\n\u001b[1;32m      8\u001b[0m         \u001b[0;32mif\u001b[0m \u001b[0msides\u001b[0m \u001b[0;34m<\u001b[0m \u001b[0;36m3\u001b[0m\u001b[0;34m:\u001b[0m\u001b[0;34m\u001b[0m\u001b[0;34m\u001b[0m\u001b[0m\n\u001b[0;32m----> 9\u001b[0;31m             \u001b[0;32mraise\u001b[0m \u001b[0mValueError\u001b[0m\u001b[0;34m(\u001b[0m\u001b[0;34m\"Number of Edges should be more than 2\"\u001b[0m\u001b[0;34m)\u001b[0m\u001b[0;34m\u001b[0m\u001b[0;34m\u001b[0m\u001b[0m\n\u001b[0m\u001b[1;32m     10\u001b[0m         \u001b[0mself\u001b[0m\u001b[0;34m.\u001b[0m\u001b[0m_sides\u001b[0m \u001b[0;34m=\u001b[0m \u001b[0msides\u001b[0m\u001b[0;34m\u001b[0m\u001b[0;34m\u001b[0m\u001b[0m\n\u001b[1;32m     11\u001b[0m         \u001b[0mself\u001b[0m\u001b[0;34m.\u001b[0m\u001b[0m_radius\u001b[0m \u001b[0;34m=\u001b[0m \u001b[0mradius\u001b[0m\u001b[0;34m\u001b[0m\u001b[0;34m\u001b[0m\u001b[0m\n",
            "\u001b[0;31mValueError\u001b[0m: Number of Edges should be more than 2"
          ]
        }
      ]
    },
    {
      "cell_type": "code",
      "source": [
        "p1 = Polygon(5,10)\n",
        "print(p1.apothem)"
      ],
      "metadata": {
        "colab": {
          "base_uri": "https://localhost:8080/"
        },
        "id": "s_10ICsKoM5B",
        "outputId": "8396b498-bfbf-4f8e-cc68-75a4606d00ab"
      },
      "execution_count": 3,
      "outputs": [
        {
          "output_type": "stream",
          "name": "stdout",
          "text": [
            "8.09\n"
          ]
        }
      ]
    },
    {
      "cell_type": "code",
      "source": [
        "print(p1)"
      ],
      "metadata": {
        "colab": {
          "base_uri": "https://localhost:8080/"
        },
        "id": "86j15jA7oVhQ",
        "outputId": "74d470ec-b8a3-4568-fd8f-bf5df6fa01fe"
      },
      "execution_count": 4,
      "outputs": [
        {
          "output_type": "stream",
          "name": "stdout",
          "text": [
            "Regular Convex Polygon : Sides = 5, Radius = 10, Angle = 108.0 degrees, Side Length = 11.76, Apothem = 8.09, Area = 237.85, Perimeter = 58.8\n"
          ]
        }
      ]
    },
    {
      "cell_type": "code",
      "source": [
        "p2 = PolygonSeq(10,5)\n",
        "for i in p2:\n",
        "  print(i)"
      ],
      "metadata": {
        "colab": {
          "base_uri": "https://localhost:8080/"
        },
        "id": "zrzbaJMbobhm",
        "outputId": "88b7c973-449c-4095-b07d-74d261275a2d"
      },
      "execution_count": 5,
      "outputs": [
        {
          "output_type": "stream",
          "name": "stdout",
          "text": [
            "Regular Convex Polygon : Sides = 3, Radius = 5, Angle = 60.0 degrees, Side Length = 8.66, Apothem = 2.5, Area = 32.48, Perimeter = 25.98\n",
            "Regular Convex Polygon : Sides = 4, Radius = 5, Angle = 90.0 degrees, Side Length = 7.07, Apothem = 3.54, Area = 50.06, Perimeter = 28.28\n",
            "Regular Convex Polygon : Sides = 5, Radius = 5, Angle = 108.0 degrees, Side Length = 5.88, Apothem = 4.05, Area = 59.53, Perimeter = 29.4\n",
            "Regular Convex Polygon : Sides = 6, Radius = 5, Angle = 120.0 degrees, Side Length = 5.0, Apothem = 4.33, Area = 64.95, Perimeter = 30.0\n",
            "Regular Convex Polygon : Sides = 7, Radius = 5, Angle = 128.57 degrees, Side Length = 4.34, Apothem = 4.5, Area = 68.36, Perimeter = 30.38\n",
            "Regular Convex Polygon : Sides = 8, Radius = 5, Angle = 135.0 degrees, Side Length = 3.83, Apothem = 4.62, Area = 70.78, Perimeter = 30.64\n",
            "Regular Convex Polygon : Sides = 9, Radius = 5, Angle = 140.0 degrees, Side Length = 3.42, Apothem = 4.7, Area = 72.33, Perimeter = 30.78\n",
            "Regular Convex Polygon : Sides = 10, Radius = 5, Angle = 144.0 degrees, Side Length = 3.09, Apothem = 4.76, Area = 73.54, Perimeter = 30.9\n"
          ]
        }
      ]
    },
    {
      "cell_type": "code",
      "source": [
        "p2.getmaxeffpoly()"
      ],
      "metadata": {
        "colab": {
          "base_uri": "https://localhost:8080/",
          "height": 54
        },
        "id": "_1oxZPXuopfX",
        "outputId": "ffd019ac-960e-4d4f-9071-6174b664515b"
      },
      "execution_count": 6,
      "outputs": [
        {
          "output_type": "execute_result",
          "data": {
            "application/vnd.google.colaboratory.intrinsic+json": {
              "type": "string"
            },
            "text/plain": [
              "'Maximum Efficiency Polygon with ratio 2.38 is Regular Convex Polygon : Sides = 10, Radius = 5, Angle = 144.0 degrees, Side Length = 3.09, Apothem = 4.76, Area = 73.54, Perimeter = 30.9 '"
            ]
          },
          "metadata": {},
          "execution_count": 6
        }
      ]
    }
  ]
}